{
 "cells": [
  {
   "cell_type": "code",
   "execution_count": 1,
   "metadata": {},
   "outputs": [],
   "source": [
    "import pandas as pd\n",
    "\n",
    "csv_file_path = \"../data/csv/中國信託_ViolationItems.csv\""
   ]
  },
  {
   "cell_type": "markdown",
   "metadata": {},
   "source": [
    "### 輸入年份範圍"
   ]
  },
  {
   "cell_type": "code",
   "execution_count": 2,
   "metadata": {},
   "outputs": [
    {
     "data": {
      "text/plain": [
       "['2022', '2023']"
      ]
     },
     "execution_count": 2,
     "metadata": {},
     "output_type": "execute_result"
    }
   ],
   "source": [
    "year_range = input('Enter year range: (yyyy-yyyy)').split('-')\n",
    "year_range"
   ]
  },
  {
   "cell_type": "markdown",
   "metadata": {},
   "source": [
    "### 取得年份範圍中的資料"
   ]
  },
  {
   "cell_type": "code",
   "execution_count": 4,
   "metadata": {},
   "outputs": [
    {
     "data": {
      "text/html": [
       "<div>\n",
       "<style scoped>\n",
       "    .dataframe tbody tr th:only-of-type {\n",
       "        vertical-align: middle;\n",
       "    }\n",
       "\n",
       "    .dataframe tbody tr th {\n",
       "        vertical-align: top;\n",
       "    }\n",
       "\n",
       "    .dataframe thead th {\n",
       "        text-align: right;\n",
       "    }\n",
       "</style>\n",
       "<table border=\"1\" class=\"dataframe\">\n",
       "  <thead>\n",
       "    <tr style=\"text-align: right;\">\n",
       "      <th></th>\n",
       "      <th>編號</th>\n",
       "      <th>裁處書發文日期</th>\n",
       "      <th>資料來源</th>\n",
       "      <th>標題</th>\n",
       "    </tr>\n",
       "  </thead>\n",
       "  <tbody>\n",
       "    <tr>\n",
       "      <th>0</th>\n",
       "      <td>1</td>\n",
       "      <td>2023-08-10</td>\n",
       "      <td>保險局</td>\n",
       "      <td>台灣人壽保險股份有限公司公司治理運作之內部控制制度未能有效運作，且核有有礙健全經營之虞，依保...</td>\n",
       "    </tr>\n",
       "    <tr>\n",
       "      <th>1</th>\n",
       "      <td>2</td>\n",
       "      <td>2023-08-10</td>\n",
       "      <td>銀行局</td>\n",
       "      <td>中國信託金融控股股份有限公司及相關子公司之公司治理有重大缺失，內部控制制度未能有效運作，違反...</td>\n",
       "    </tr>\n",
       "    <tr>\n",
       "      <th>2</th>\n",
       "      <td>3</td>\n",
       "      <td>2023-08-04</td>\n",
       "      <td>銀行局</td>\n",
       "      <td>中國信託商業銀行前理財專員(下稱理專)挪用客戶款項、推介客戶短期間進行多筆交易及代客戶辦理網...</td>\n",
       "    </tr>\n",
       "    <tr>\n",
       "      <th>3</th>\n",
       "      <td>4</td>\n",
       "      <td>2023-06-07</td>\n",
       "      <td>銀行局</td>\n",
       "      <td>中國信託商業銀行辦理客戶臨櫃申請調高網路銀行轉帳及ATM提領日限額作業所涉缺失，核有違反銀行...</td>\n",
       "    </tr>\n",
       "  </tbody>\n",
       "</table>\n",
       "</div>"
      ],
      "text/plain": [
       "   編號    裁處書發文日期 資料來源                                                 標題\n",
       "0   1 2023-08-10  保險局  台灣人壽保險股份有限公司公司治理運作之內部控制制度未能有效運作，且核有有礙健全經營之虞，依保...\n",
       "1   2 2023-08-10  銀行局  中國信託金融控股股份有限公司及相關子公司之公司治理有重大缺失，內部控制制度未能有效運作，違反...\n",
       "2   3 2023-08-04  銀行局  中國信託商業銀行前理財專員(下稱理專)挪用客戶款項、推介客戶短期間進行多筆交易及代客戶辦理網...\n",
       "3   4 2023-06-07  銀行局  中國信託商業銀行辦理客戶臨櫃申請調高網路銀行轉帳及ATM提領日限額作業所涉缺失，核有違反銀行..."
      ]
     },
     "execution_count": 4,
     "metadata": {},
     "output_type": "execute_result"
    }
   ],
   "source": [
    "df = pd.read_csv(csv_file_path)\n",
    "df['裁處書發文日期'] = pd.to_datetime(df['裁處書發文日期'])\n",
    "mask = (df['裁處書發文日期'].dt.year >= int(year_range[0])) & (df['裁處書發文日期'].dt.year <= int(year_range[1]))\n",
    "filtered_df = df[mask]\n",
    "filtered_df"
   ]
  },
  {
   "cell_type": "markdown",
   "metadata": {},
   "source": [
    "### 取得停業的資料"
   ]
  },
  {
   "cell_type": "code",
   "execution_count": 5,
   "metadata": {},
   "outputs": [
    {
     "data": {
      "text/html": [
       "<div>\n",
       "<style scoped>\n",
       "    .dataframe tbody tr th:only-of-type {\n",
       "        vertical-align: middle;\n",
       "    }\n",
       "\n",
       "    .dataframe tbody tr th {\n",
       "        vertical-align: top;\n",
       "    }\n",
       "\n",
       "    .dataframe thead th {\n",
       "        text-align: right;\n",
       "    }\n",
       "</style>\n",
       "<table border=\"1\" class=\"dataframe\">\n",
       "  <thead>\n",
       "    <tr style=\"text-align: right;\">\n",
       "      <th></th>\n",
       "      <th>編號</th>\n",
       "      <th>裁處書發文日期</th>\n",
       "      <th>資料來源</th>\n",
       "      <th>標題</th>\n",
       "    </tr>\n",
       "  </thead>\n",
       "  <tbody>\n",
       "  </tbody>\n",
       "</table>\n",
       "</div>"
      ],
      "text/plain": [
       "Empty DataFrame\n",
       "Columns: [編號, 裁處書發文日期, 資料來源, 標題]\n",
       "Index: []"
      ]
     },
     "execution_count": 5,
     "metadata": {},
     "output_type": "execute_result"
    }
   ],
   "source": [
    "violation_mask = filtered_df['標題'].str.contains('停止') & filtered_df['標題'].str.contains('業務')\n",
    "violation_df = filtered_df[violation_mask]\n",
    "violation_df"
   ]
  },
  {
   "cell_type": "code",
   "execution_count": 6,
   "metadata": {},
   "outputs": [
    {
     "name": "stdout",
     "output_type": "stream",
     "text": [
      "No Violation\n"
     ]
    }
   ],
   "source": [
    "if len(violation_df) == 0:\n",
    "  print('No Violation')\n",
    "else:\n",
    "  print('Violation Occurs')"
   ]
  }
 ],
 "metadata": {
  "kernelspec": {
   "display_name": "Python 3",
   "language": "python",
   "name": "python3"
  },
  "language_info": {
   "codemirror_mode": {
    "name": "ipython",
    "version": 3
   },
   "file_extension": ".py",
   "mimetype": "text/x-python",
   "name": "python",
   "nbconvert_exporter": "python",
   "pygments_lexer": "ipython3",
   "version": "3.11.4"
  },
  "orig_nbformat": 4
 },
 "nbformat": 4,
 "nbformat_minor": 2
}
