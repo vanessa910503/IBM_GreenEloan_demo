{
 "cells": [
  {
   "cell_type": "code",
   "execution_count": 32,
   "metadata": {},
   "outputs": [],
   "source": [
    "from getpass import getpass\n",
    "from time import sleep\n",
    "from selenium.webdriver.common.keys import Keys\n",
    "from selenium.common.exceptions import NoSuchElementException\n",
    "from selenium.webdriver import Chrome\n",
    "from selenium import webdriver\n",
    "from selenium.webdriver.common.by import By\n",
    "from selenium.webdriver.support.ui import WebDriverWait\n",
    "from selenium.webdriver.support import expected_conditions as EC\n",
    "import requests\n",
    "import pandas as pd\n",
    "import re\n",
    "import csv\n",
    "from selenium.webdriver.chrome.options import Options\n",
    "from bs4 import BeautifulSoup\n"
   ]
  },
  {
   "cell_type": "markdown",
   "metadata": {},
   "source": [
    "### Set the Company Name"
   ]
  },
  {
   "cell_type": "code",
   "execution_count": 33,
   "metadata": {},
   "outputs": [],
   "source": [
    "company_name = \"中國信託\""
   ]
  },
  {
   "cell_type": "markdown",
   "metadata": {},
   "source": [
    "### Navigate to the website"
   ]
  },
  {
   "cell_type": "code",
   "execution_count": 34,
   "metadata": {},
   "outputs": [],
   "source": [
    "driver = webdriver.Chrome()\n",
    "driver.get('https://www.fsc.gov.tw/ch/home.jsp?id=131&parentpath=0,2')"
   ]
  },
  {
   "cell_type": "markdown",
   "metadata": {},
   "source": [
    "### Set the waiting time"
   ]
  },
  {
   "cell_type": "code",
   "execution_count": 35,
   "metadata": {},
   "outputs": [],
   "source": [
    "wait = WebDriverWait(driver, 10)"
   ]
  },
  {
   "cell_type": "markdown",
   "metadata": {},
   "source": [
    "### Type in the name of the company"
   ]
  },
  {
   "cell_type": "code",
   "execution_count": 36,
   "metadata": {},
   "outputs": [],
   "source": [
    "company_name_input = driver.find_element(\"xpath\", '//*[@id=\"keyword\"]')\n",
    "company_name_input.send_keys(f\"{company_name}\")"
   ]
  },
  {
   "cell_type": "markdown",
   "metadata": {},
   "source": [
    "### Click the `Search` button"
   ]
  },
  {
   "cell_type": "code",
   "execution_count": 37,
   "metadata": {},
   "outputs": [],
   "source": [
    "search_button = driver.find_element('xpath', '//*[@id=\"fat-search\"]/div/div/div[4]/div[2]/input[1]')\n",
    "search_button.click()"
   ]
  },
  {
   "cell_type": "markdown",
   "metadata": {},
   "source": [
    "### Extract the whole data table"
   ]
  },
  {
   "cell_type": "code",
   "execution_count": 38,
   "metadata": {},
   "outputs": [
    {
     "name": "stdout",
     "output_type": "stream",
     "text": [
      "['編號', '裁處書發文日期', '資料來源', '標題']\n",
      "['1', '2023-06-07', '銀行局', '中國信託商業銀行辦理客戶臨櫃申請調高網路銀行轉帳及ATM提領日限額作業所......']\n",
      "['2', '2021-12-28', '銀行局', '中國信託商業銀行南中壢分行及石牌分行前理財專員(下稱理專)管員及葉員與客......']\n",
      "編號\n",
      "2\n"
     ]
    }
   ],
   "source": [
    "data_table = driver.find_elements('xpath', '//*[@id=\"messageform\"]/div[2]/ul/li')\n",
    "print(data_table[0].text.split('\\n'))\n",
    "print(data_table[1].text.split('\\n'))\n",
    "print(data_table[2].text.split('\\n'))\n",
    "print(data_table[0].text.split('\\n')[0])\n",
    "print(data_table[2].text.split('\\n')[0])"
   ]
  },
  {
   "cell_type": "code",
   "execution_count": 39,
   "metadata": {},
   "outputs": [
    {
     "name": "stdout",
     "output_type": "stream",
     "text": [
      "CSV file '中國信託_ViolationItems.csv' has been created with the extracted data.\n"
     ]
    }
   ],
   "source": [
    "# Extract the data rows from the table\n",
    "data_table = driver.find_elements('xpath', '//*[@id=\"messageform\"]/div[2]/ul/li')\n",
    "\n",
    "# Initialize an empty list to store the data\n",
    "data_list = []\n",
    "\n",
    "# Iterate through each row and extract the required information\n",
    "for row in data_table:\n",
    "    data = row.text.split('\\n')\n",
    "    entry = {\n",
    "        \"編號\": data[0],\n",
    "        \"裁處書發文日期\": data[1],\n",
    "        \"資料來源\": data[2],\n",
    "        \"標題\": data[3]\n",
    "    }\n",
    "    data_list.append(entry)\n",
    "\n",
    "# Drop the first row from data_list\n",
    "data_list = data_list[1:]\n",
    "\n",
    "# Write the data to a CSV file\n",
    "csv_file = f\"{company_name}_ViolationItems.csv\"\n",
    "with open(csv_file, mode='w', encoding='utf-8', newline='') as file:\n",
    "    writer = csv.DictWriter(file, fieldnames=[\"編號\", \"裁處書發文日期\", \"資料來源\", \"標題\"])\n",
    "    writer.writeheader()\n",
    "    writer.writerows(data_list)\n",
    "\n",
    "# Close the browser\n",
    "driver.quit()\n",
    "\n",
    "print(f\"CSV file '{csv_file}' has been created with the extracted data.\")\n"
   ]
  }
 ],
 "metadata": {
  "kernelspec": {
   "display_name": "Python 3",
   "language": "python",
   "name": "python3"
  },
  "language_info": {
   "codemirror_mode": {
    "name": "ipython",
    "version": 3
   },
   "file_extension": ".py",
   "mimetype": "text/x-python",
   "name": "python",
   "nbconvert_exporter": "python",
   "pygments_lexer": "ipython3",
   "version": "3.9.6"
  },
  "orig_nbformat": 4
 },
 "nbformat": 4,
 "nbformat_minor": 2
}
